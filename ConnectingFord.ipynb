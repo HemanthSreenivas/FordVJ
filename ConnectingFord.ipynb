{
 "cells": [
  {
   "cell_type": "code",
   "execution_count": null,
   "metadata": {},
   "outputs": [],
   "source": [
    "import json\n",
    "import redis\n",
    "from flask import Flask, request\n",
    "from loguru import logger\n",
    "\n",
    "HISTORY_LENGTH = 10\n",
    "DATA_KEY = \"engine_temperature\"\n"
   ]
  },
  {
   "cell_type": "code",
   "execution_count": null,
   "metadata": {},
   "outputs": [],
   "source": [
    "@app.route('/record', methods=['POST'])\n",
    "def record_engine_temperature():\n",
    "    payload = request.get_json(force=True)\n",
    "    logger.info(f\"(*) record request --- {json.dumps(payload)} (*)\")\n",
    "\n",
    "    engine_temperature = payload.get(\"engine_temperature\")\n",
    "    logger.info(f\"engine temperature to record is: {engine_temperature}\")\n",
    "\n",
    "    database = redis.Redis(host=\"redis\", port=6379, db=0, decode_responses=True)\n",
    "    database.lpush(DATA_KEY, engine_temperature)\n",
    "    logger.info(f\"stashed engine temperature in redis: {engine_temperature}\")\n",
    "\n",
    "    while database.llen(DATA_KEY) > HISTORY_LENGTH:\n",
    "        database.rpop(DATA_KEY)\n",
    "    engine_temperature_values = database.lrange(DATA_KEY, 0, -1)\n",
    "    logger.info(f\"engine temperature list now contains these values: {engine_temperature_values}\")\n",
    "\n",
    "    logger.info(f\"record request successful\")\n",
    "    return {\"success\": True}, 200\n"
   ]
  },
  {
   "cell_type": "code",
   "execution_count": null,
   "metadata": {},
   "outputs": [],
   "source": [
    "docker-compose down\n",
    "docker-compose up\n"
   ]
  },
  {
   "cell_type": "code",
   "execution_count": null,
   "metadata": {},
   "outputs": [],
   "source": [
    "import requests\n",
    "\n",
    "response = requests.post(\"http://0.0.0.0:8000/record\", json={\"engine_temperature\": 0.3})\n",
    "print(response.json())\n"
   ]
  },
  {
   "cell_type": "code",
   "execution_count": null,
   "metadata": {},
   "outputs": [],
   "source": [
    "{\n",
    "  \"engine_temperature\": 0.3\n",
    "}\n"
   ]
  },
  {
   "cell_type": "code",
   "execution_count": null,
   "metadata": {},
   "outputs": [],
   "source": [
    "curl -X POST http://0.0.0.0:8000/record -H \"Content-Type: application/json\" -d '{\"engine_temperature\": 0.3}'\n"
   ]
  },
  {
   "cell_type": "code",
   "execution_count": null,
   "metadata": {},
   "outputs": [],
   "source": [
    "git add .\n",
    "git commit -m \"Integrated Redis for engine temperature recording\"\n",
    "git push origin main\n"
   ]
  }
 ],
 "metadata": {
  "language_info": {
   "name": "python"
  }
 },
 "nbformat": 4,
 "nbformat_minor": 2
}
